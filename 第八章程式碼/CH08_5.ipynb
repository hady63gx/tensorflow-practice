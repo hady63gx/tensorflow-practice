{
 "cells": [
  {
   "cell_type": "code",
   "execution_count": 1,
   "metadata": {},
   "outputs": [
    {
     "name": "stdout",
     "output_type": "stream",
     "text": [
      "Downloading data from https://storage.googleapis.com/tensorflow/tf-keras-datasets/train-labels-idx1-ubyte.gz\n",
      "29515/29515 [==============================] - 0s 0us/step\n",
      "Downloading data from https://storage.googleapis.com/tensorflow/tf-keras-datasets/train-images-idx3-ubyte.gz\n",
      "26421880/26421880 [==============================] - 2s 0us/step\n",
      "Downloading data from https://storage.googleapis.com/tensorflow/tf-keras-datasets/t10k-labels-idx1-ubyte.gz\n",
      "5148/5148 [==============================] - 0s 0s/step\n",
      "Downloading data from https://storage.googleapis.com/tensorflow/tf-keras-datasets/t10k-images-idx3-ubyte.gz\n",
      "4422102/4422102 [==============================] - 1s 0us/step\n",
      "train_image :  (60000, 28, 28)\n",
      "train_label :  (60000,)\n",
      "test_image :  (10000, 28, 28)\n",
      "test_label :  (10000,)\n"
     ]
    }
   ],
   "source": [
    "import tensorflow as tf\n",
    "import matplotlib.pyplot as plt\n",
    "\n",
    "(train_image,train_label),(test_image,test_label)=\\\n",
    "    tf.keras.datasets.fashion_mnist.load_data()\n",
    "print(\"train_image : \",train_image.shape)\n",
    "print(\"train_label : \",train_label.shape)\n",
    "print(\"test_image : \",test_image.shape)\n",
    "print(\"test_label : \",test_label.shape)"
   ]
  },
  {
   "cell_type": "code",
   "execution_count": 2,
   "metadata": {},
   "outputs": [
    {
     "data": {
      "image/png": "[encoded data removed]",
      "text/plain": [
       "<Figure size 640x480 with 9 Axes>"
      ]
     },
     "metadata": {},
     "output_type": "display_data"
    }
   ],
   "source": [
    "class_names = ['T-shirt/top', 'Trouser', 'Pullover', 'Dress', 'Coat',\n",
    "              'Sandal', 'Shirt', 'Sneaker','Bag', 'Ankle boot']\n",
    "# 顯示指定的影像 (這裡顯示九張)\n",
    "def ShowImage(x,y):\n",
    "    for i in range(9):\n",
    "        plt.subplot(330 + 1 + i)\n",
    "        plt.imshow(x[i], cmap=plt.get_cmap('gray'))\n",
    "        plt.xticks([])\n",
    "        plt.yticks([])\n",
    "        plt.xlabel(class_names[y[i]])\n",
    "    plt.show()\n",
    "\n",
    "ShowImage(train_image,train_label)"
   ]
  },
  {
   "cell_type": "code",
   "execution_count": 3,
   "metadata": {},
   "outputs": [
    {
     "name": "stdout",
     "output_type": "stream",
     "text": [
      "Model: \"sequential\"\n",
      "_________________________________________________________________\n",
      " Layer (type)                Output Shape              Param #   \n",
      "=================================================================\n",
      " flatten (Flatten)           (None, 784)               0         \n",
      "                                                                 \n",
      " dense (Dense)               (None, 256)               200960    \n",
      "                                                                 \n",
      " dense_1 (Dense)             (None, 128)               32896     \n",
      "                                                                 \n",
      " dense_2 (Dense)             (None, 64)                8256      \n",
      "                                                                 \n",
      " dense_3 (Dense)             (None, 10)                650       \n",
      "                                                                 \n",
      "=================================================================\n",
      "Total params: 242,762\n",
      "Trainable params: 242,762\n",
      "Non-trainable params: 0\n",
      "_________________________________________________________________\n",
      "None\n"
     ]
    }
   ],
   "source": [
    "# 對資料集做一個前置處理, 將資料正規到 0~1 之間\n",
    "def preprocess(x, y):\n",
    "    x = tf.cast(x, dtype=tf.float32) / 255.\n",
    "    y = tf.cast(y, dtype=tf.int32)  # 用來比大小時如果是浮點數可能會不相等\n",
    "    return x,y\n",
    "\n",
    "# 建立模型\n",
    "def build_model():\n",
    "    # 線性疊加\n",
    "    model = tf.keras.models.Sequential()\n",
    "    # 改變平坦輸入\n",
    "    model.add(tf.keras.layers.Flatten(input_shape=(28, 28)))\n",
    "    # 第一層隱藏層, 包含256個神經元\n",
    "    model.add(tf.keras.layers.Dense(256, activation=tf.nn.relu))\n",
    "    # 第二層隱藏層, 包含128個神經元\n",
    "    model.add(tf.keras.layers.Dense(128, activation=tf.nn.relu))\n",
    "    # 第三層隱藏層, 包含256個神經元\n",
    "    model.add(tf.keras.layers.Dense(64, activation=tf.nn.relu))\n",
    "    # 第四層為輸出層分 10 個類別\n",
    "    model.add(tf.keras.layers.Dense(10, activation=tf.nn.softmax))\n",
    "    return model\n",
    "\n",
    "model = build_model()\n",
    "print(model.summary())"
   ]
  },
  {
   "cell_type": "code",
   "execution_count": 4,
   "metadata": {},
   "outputs": [
    {
     "name": "stdout",
     "output_type": "stream",
     "text": [
      "Epoch 1/100\n",
      "375/375 - 3s - loss: 0.5540 - accuracy: 0.8069 - val_loss: 0.4098 - val_accuracy: 0.8533 - 3s/epoch - 7ms/step\n",
      "Epoch 2/100\n",
      "375/375 - 3s - loss: 0.3871 - accuracy: 0.8609 - val_loss: 0.3719 - val_accuracy: 0.8694 - 3s/epoch - 7ms/step\n",
      "Epoch 3/100\n",
      "375/375 - 3s - loss: 0.3402 - accuracy: 0.8752 - val_loss: 0.3546 - val_accuracy: 0.8735 - 3s/epoch - 8ms/step\n",
      "Epoch 4/100\n",
      "375/375 - 3s - loss: 0.3186 - accuracy: 0.8821 - val_loss: 0.3423 - val_accuracy: 0.8753 - 3s/epoch - 8ms/step\n",
      "Epoch 5/100\n",
      "375/375 - 3s - loss: 0.2972 - accuracy: 0.8893 - val_loss: 0.3324 - val_accuracy: 0.8804 - 3s/epoch - 9ms/step\n",
      "Epoch 6/100\n",
      "375/375 - 4s - loss: 0.2835 - accuracy: 0.8955 - val_loss: 0.3249 - val_accuracy: 0.8826 - 4s/epoch - 10ms/step\n",
      "Epoch 7/100\n",
      "375/375 - 4s - loss: 0.2686 - accuracy: 0.9010 - val_loss: 0.3213 - val_accuracy: 0.8855 - 4s/epoch - 10ms/step\n",
      "Epoch 8/100\n",
      "375/375 - 4s - loss: 0.2575 - accuracy: 0.9045 - val_loss: 0.3144 - val_accuracy: 0.8872 - 4s/epoch - 10ms/step\n",
      "Epoch 9/100\n",
      "375/375 - 4s - loss: 0.2453 - accuracy: 0.9071 - val_loss: 0.3253 - val_accuracy: 0.8839 - 4s/epoch - 10ms/step\n",
      "Epoch 10/100\n",
      "375/375 - 4s - loss: 0.2322 - accuracy: 0.9125 - val_loss: 0.3116 - val_accuracy: 0.8887 - 4s/epoch - 10ms/step\n",
      "Epoch 11/100\n",
      "375/375 - 4s - loss: 0.2290 - accuracy: 0.9145 - val_loss: 0.3338 - val_accuracy: 0.8823 - 4s/epoch - 10ms/step\n",
      "Epoch 12/100\n",
      "375/375 - 4s - loss: 0.2186 - accuracy: 0.9172 - val_loss: 0.3222 - val_accuracy: 0.8895 - 4s/epoch - 10ms/step\n",
      "Epoch 13/100\n",
      "375/375 - 4s - loss: 0.2138 - accuracy: 0.9190 - val_loss: 0.3303 - val_accuracy: 0.8876 - 4s/epoch - 11ms/step\n",
      "Epoch 14/100\n",
      "375/375 - 4s - loss: 0.2078 - accuracy: 0.9215 - val_loss: 0.3131 - val_accuracy: 0.8929 - 4s/epoch - 11ms/step\n",
      "Epoch 15/100\n",
      "375/375 - 4s - loss: 0.1992 - accuracy: 0.9246 - val_loss: 0.3465 - val_accuracy: 0.8854 - 4s/epoch - 10ms/step\n",
      "Epoch 16/100\n",
      "375/375 - 4s - loss: 0.1924 - accuracy: 0.9276 - val_loss: 0.3270 - val_accuracy: 0.8917 - 4s/epoch - 10ms/step\n",
      "Epoch 17/100\n",
      "375/375 - 4s - loss: 0.1850 - accuracy: 0.9294 - val_loss: 0.3325 - val_accuracy: 0.8931 - 4s/epoch - 10ms/step\n",
      "Epoch 18/100\n",
      "375/375 - 4s - loss: 0.1804 - accuracy: 0.9319 - val_loss: 0.3239 - val_accuracy: 0.8909 - 4s/epoch - 10ms/step\n",
      "Epoch 19/100\n",
      "375/375 - 4s - loss: 0.1762 - accuracy: 0.9323 - val_loss: 0.3475 - val_accuracy: 0.8867 - 4s/epoch - 10ms/step\n",
      "Epoch 20/100\n",
      "375/375 - 4s - loss: 0.1680 - accuracy: 0.9366 - val_loss: 0.3369 - val_accuracy: 0.8921 - 4s/epoch - 10ms/step\n",
      "Epoch 21/100\n",
      "375/375 - 4s - loss: 0.1624 - accuracy: 0.9386 - val_loss: 0.3335 - val_accuracy: 0.8929 - 4s/epoch - 10ms/step\n",
      "Epoch 22/100\n",
      "375/375 - 4s - loss: 0.1552 - accuracy: 0.9404 - val_loss: 0.3603 - val_accuracy: 0.8928 - 4s/epoch - 10ms/step\n",
      "Epoch 23/100\n",
      "375/375 - 4s - loss: 0.1548 - accuracy: 0.9413 - val_loss: 0.3601 - val_accuracy: 0.8957 - 4s/epoch - 10ms/step\n",
      "Epoch 24/100\n",
      "375/375 - 4s - loss: 0.1459 - accuracy: 0.9444 - val_loss: 0.3491 - val_accuracy: 0.8951 - 4s/epoch - 10ms/step\n",
      "Epoch 25/100\n",
      "375/375 - 4s - loss: 0.1452 - accuracy: 0.9444 - val_loss: 0.3715 - val_accuracy: 0.8963 - 4s/epoch - 10ms/step\n",
      "Epoch 26/100\n",
      "375/375 - 4s - loss: 0.1398 - accuracy: 0.9464 - val_loss: 0.3788 - val_accuracy: 0.8919 - 4s/epoch - 10ms/step\n",
      "Epoch 27/100\n",
      "375/375 - 4s - loss: 0.1357 - accuracy: 0.9481 - val_loss: 0.3754 - val_accuracy: 0.8945 - 4s/epoch - 10ms/step\n",
      "Epoch 28/100\n",
      "375/375 - 4s - loss: 0.1291 - accuracy: 0.9507 - val_loss: 0.3858 - val_accuracy: 0.8947 - 4s/epoch - 10ms/step\n",
      "Epoch 29/100\n",
      "375/375 - 4s - loss: 0.1291 - accuracy: 0.9510 - val_loss: 0.3717 - val_accuracy: 0.8921 - 4s/epoch - 10ms/step\n",
      "Epoch 30/100\n",
      "375/375 - 4s - loss: 0.1224 - accuracy: 0.9528 - val_loss: 0.4107 - val_accuracy: 0.8892 - 4s/epoch - 10ms/step\n",
      "Epoch 31/100\n",
      "375/375 - 4s - loss: 0.1150 - accuracy: 0.9564 - val_loss: 0.3775 - val_accuracy: 0.8913 - 4s/epoch - 10ms/step\n",
      "Epoch 32/100\n",
      "375/375 - 4s - loss: 0.1148 - accuracy: 0.9553 - val_loss: 0.3880 - val_accuracy: 0.8993 - 4s/epoch - 10ms/step\n",
      "Epoch 33/100\n",
      "375/375 - 4s - loss: 0.1111 - accuracy: 0.9571 - val_loss: 0.4278 - val_accuracy: 0.8908 - 4s/epoch - 10ms/step\n",
      "Epoch 34/100\n",
      "375/375 - 4s - loss: 0.1085 - accuracy: 0.9577 - val_loss: 0.4078 - val_accuracy: 0.8996 - 4s/epoch - 10ms/step\n",
      "Epoch 35/100\n",
      "375/375 - 4s - loss: 0.1036 - accuracy: 0.9604 - val_loss: 0.4199 - val_accuracy: 0.8955 - 4s/epoch - 10ms/step\n",
      "Epoch 36/100\n",
      "375/375 - 4s - loss: 0.1075 - accuracy: 0.9594 - val_loss: 0.4544 - val_accuracy: 0.8897 - 4s/epoch - 10ms/step\n",
      "Epoch 37/100\n",
      "375/375 - 4s - loss: 0.0977 - accuracy: 0.9635 - val_loss: 0.4318 - val_accuracy: 0.8962 - 4s/epoch - 10ms/step\n",
      "Epoch 38/100\n",
      "375/375 - 4s - loss: 0.0952 - accuracy: 0.9636 - val_loss: 0.4445 - val_accuracy: 0.8929 - 4s/epoch - 11ms/step\n",
      "Epoch 39/100\n",
      "375/375 - 4s - loss: 0.0928 - accuracy: 0.9644 - val_loss: 0.4718 - val_accuracy: 0.8941 - 4s/epoch - 11ms/step\n",
      "Epoch 40/100\n",
      "375/375 - 4s - loss: 0.0935 - accuracy: 0.9643 - val_loss: 0.4468 - val_accuracy: 0.8923 - 4s/epoch - 10ms/step\n",
      "Epoch 41/100\n",
      "375/375 - 4s - loss: 0.0903 - accuracy: 0.9653 - val_loss: 0.4640 - val_accuracy: 0.8915 - 4s/epoch - 10ms/step\n",
      "Epoch 42/100\n",
      "375/375 - 4s - loss: 0.0865 - accuracy: 0.9665 - val_loss: 0.4681 - val_accuracy: 0.8924 - 4s/epoch - 11ms/step\n",
      "Epoch 43/100\n",
      "375/375 - 4s - loss: 0.0818 - accuracy: 0.9689 - val_loss: 0.4978 - val_accuracy: 0.8912 - 4s/epoch - 11ms/step\n",
      "Epoch 44/100\n",
      "375/375 - 4s - loss: 0.0808 - accuracy: 0.9687 - val_loss: 0.5131 - val_accuracy: 0.8905 - 4s/epoch - 10ms/step\n",
      "Epoch 45/100\n",
      "375/375 - 4s - loss: 0.0783 - accuracy: 0.9703 - val_loss: 0.4975 - val_accuracy: 0.8953 - 4s/epoch - 11ms/step\n",
      "Epoch 46/100\n",
      "375/375 - 4s - loss: 0.0744 - accuracy: 0.9710 - val_loss: 0.5024 - val_accuracy: 0.8948 - 4s/epoch - 11ms/step\n",
      "Epoch 47/100\n",
      "375/375 - 4s - loss: 0.0818 - accuracy: 0.9691 - val_loss: 0.5136 - val_accuracy: 0.8948 - 4s/epoch - 10ms/step\n",
      "Epoch 48/100\n",
      "375/375 - 2s - loss: 0.0799 - accuracy: 0.9690 - val_loss: 0.4957 - val_accuracy: 0.8906 - 2s/epoch - 6ms/step\n",
      "Epoch 49/100\n",
      "375/375 - 2s - loss: 0.0726 - accuracy: 0.9723 - val_loss: 0.5341 - val_accuracy: 0.8932 - 2s/epoch - 6ms/step\n",
      "Epoch 50/100\n",
      "375/375 - 2s - loss: 0.0771 - accuracy: 0.9712 - val_loss: 0.5053 - val_accuracy: 0.8959 - 2s/epoch - 6ms/step\n",
      "Epoch 51/100\n",
      "375/375 - 2s - loss: 0.0663 - accuracy: 0.9750 - val_loss: 0.5914 - val_accuracy: 0.8932 - 2s/epoch - 6ms/step\n",
      "Epoch 52/100\n",
      "375/375 - 3s - loss: 0.0719 - accuracy: 0.9722 - val_loss: 0.5279 - val_accuracy: 0.8949 - 3s/epoch - 7ms/step\n",
      "Epoch 53/100\n",
      "375/375 - 4s - loss: 0.0604 - accuracy: 0.9771 - val_loss: 0.5426 - val_accuracy: 0.8923 - 4s/epoch - 12ms/step\n",
      "Epoch 54/100\n",
      "375/375 - 4s - loss: 0.0676 - accuracy: 0.9744 - val_loss: 0.5231 - val_accuracy: 0.8932 - 4s/epoch - 11ms/step\n",
      "Epoch 55/100\n",
      "375/375 - 4s - loss: 0.0648 - accuracy: 0.9747 - val_loss: 0.5862 - val_accuracy: 0.8876 - 4s/epoch - 10ms/step\n",
      "Epoch 56/100\n",
      "375/375 - 4s - loss: 0.0606 - accuracy: 0.9776 - val_loss: 0.5520 - val_accuracy: 0.8925 - 4s/epoch - 10ms/step\n",
      "Epoch 57/100\n",
      "375/375 - 4s - loss: 0.0620 - accuracy: 0.9760 - val_loss: 0.5681 - val_accuracy: 0.8923 - 4s/epoch - 11ms/step\n",
      "Epoch 58/100\n",
      "375/375 - 4s - loss: 0.0606 - accuracy: 0.9772 - val_loss: 0.5904 - val_accuracy: 0.8867 - 4s/epoch - 10ms/step\n",
      "Epoch 59/100\n",
      "375/375 - 4s - loss: 0.0579 - accuracy: 0.9779 - val_loss: 0.6081 - val_accuracy: 0.8882 - 4s/epoch - 10ms/step\n",
      "Epoch 60/100\n",
      "375/375 - 4s - loss: 0.0529 - accuracy: 0.9807 - val_loss: 0.6235 - val_accuracy: 0.8843 - 4s/epoch - 10ms/step\n",
      "Epoch 61/100\n",
      "375/375 - 4s - loss: 0.0609 - accuracy: 0.9774 - val_loss: 0.6025 - val_accuracy: 0.8901 - 4s/epoch - 11ms/step\n",
      "Epoch 62/100\n",
      "375/375 - 4s - loss: 0.0541 - accuracy: 0.9805 - val_loss: 0.5710 - val_accuracy: 0.8950 - 4s/epoch - 10ms/step\n",
      "Epoch 63/100\n",
      "375/375 - 4s - loss: 0.0612 - accuracy: 0.9780 - val_loss: 0.5951 - val_accuracy: 0.8950 - 4s/epoch - 10ms/step\n",
      "Epoch 64/100\n",
      "375/375 - 4s - loss: 0.0550 - accuracy: 0.9801 - val_loss: 0.6226 - val_accuracy: 0.8831 - 4s/epoch - 10ms/step\n",
      "Epoch 65/100\n",
      "375/375 - 4s - loss: 0.0473 - accuracy: 0.9821 - val_loss: 0.6445 - val_accuracy: 0.8880 - 4s/epoch - 11ms/step\n",
      "Epoch 66/100\n",
      "375/375 - 4s - loss: 0.0526 - accuracy: 0.9799 - val_loss: 0.6177 - val_accuracy: 0.8871 - 4s/epoch - 11ms/step\n"
     ]
    },
    {
     "name": "stdout",
     "output_type": "stream",
     "text": [
      "Epoch 67/100\n",
      "375/375 - 4s - loss: 0.0481 - accuracy: 0.9823 - val_loss: 0.5894 - val_accuracy: 0.8948 - 4s/epoch - 11ms/step\n",
      "Epoch 68/100\n",
      "375/375 - 4s - loss: 0.0495 - accuracy: 0.9821 - val_loss: 0.6302 - val_accuracy: 0.8898 - 4s/epoch - 10ms/step\n",
      "Epoch 69/100\n",
      "375/375 - 4s - loss: 0.0578 - accuracy: 0.9786 - val_loss: 0.5816 - val_accuracy: 0.8907 - 4s/epoch - 11ms/step\n",
      "Epoch 70/100\n",
      "375/375 - 4s - loss: 0.0476 - accuracy: 0.9821 - val_loss: 0.6328 - val_accuracy: 0.8936 - 4s/epoch - 11ms/step\n",
      "Epoch 71/100\n",
      "375/375 - 3s - loss: 0.0490 - accuracy: 0.9815 - val_loss: 0.6384 - val_accuracy: 0.8953 - 3s/epoch - 7ms/step\n",
      "Epoch 72/100\n",
      "375/375 - 3s - loss: 0.0508 - accuracy: 0.9818 - val_loss: 0.6579 - val_accuracy: 0.8944 - 3s/epoch - 8ms/step\n",
      "Epoch 73/100\n",
      "375/375 - 3s - loss: 0.0360 - accuracy: 0.9863 - val_loss: 0.6817 - val_accuracy: 0.8940 - 3s/epoch - 7ms/step\n",
      "Epoch 74/100\n",
      "375/375 - 3s - loss: 0.0424 - accuracy: 0.9847 - val_loss: 0.7271 - val_accuracy: 0.8832 - 3s/epoch - 8ms/step\n",
      "Epoch 75/100\n",
      "375/375 - 4s - loss: 0.0506 - accuracy: 0.9809 - val_loss: 0.7239 - val_accuracy: 0.8904 - 4s/epoch - 10ms/step\n",
      "Epoch 76/100\n",
      "375/375 - 2s - loss: 0.0456 - accuracy: 0.9829 - val_loss: 0.6464 - val_accuracy: 0.8911 - 2s/epoch - 6ms/step\n",
      "Epoch 77/100\n",
      "375/375 - 2s - loss: 0.0405 - accuracy: 0.9849 - val_loss: 0.7078 - val_accuracy: 0.8920 - 2s/epoch - 6ms/step\n",
      "Epoch 78/100\n",
      "375/375 - 2s - loss: 0.0388 - accuracy: 0.9859 - val_loss: 0.6610 - val_accuracy: 0.8953 - 2s/epoch - 6ms/step\n",
      "Epoch 79/100\n",
      "375/375 - 2s - loss: 0.0455 - accuracy: 0.9831 - val_loss: 0.6436 - val_accuracy: 0.8950 - 2s/epoch - 6ms/step\n",
      "Epoch 80/100\n",
      "375/375 - 3s - loss: 0.0445 - accuracy: 0.9840 - val_loss: 0.6667 - val_accuracy: 0.8916 - 3s/epoch - 8ms/step\n",
      "Epoch 81/100\n",
      "375/375 - 3s - loss: 0.0381 - accuracy: 0.9861 - val_loss: 0.7112 - val_accuracy: 0.8946 - 3s/epoch - 8ms/step\n",
      "Epoch 82/100\n",
      "375/375 - 3s - loss: 0.0435 - accuracy: 0.9847 - val_loss: 0.7305 - val_accuracy: 0.8942 - 3s/epoch - 7ms/step\n",
      "Epoch 83/100\n",
      "375/375 - 3s - loss: 0.0408 - accuracy: 0.9849 - val_loss: 0.6980 - val_accuracy: 0.8964 - 3s/epoch - 7ms/step\n",
      "Epoch 84/100\n",
      "375/375 - 3s - loss: 0.0389 - accuracy: 0.9863 - val_loss: 0.6992 - val_accuracy: 0.8892 - 3s/epoch - 8ms/step\n",
      "Epoch 85/100\n",
      "375/375 - 3s - loss: 0.0325 - accuracy: 0.9881 - val_loss: 0.7119 - val_accuracy: 0.8882 - 3s/epoch - 9ms/step\n",
      "Epoch 86/100\n",
      "375/375 - 5s - loss: 0.0395 - accuracy: 0.9856 - val_loss: 0.7215 - val_accuracy: 0.8917 - 5s/epoch - 12ms/step\n",
      "Epoch 87/100\n",
      "375/375 - 4s - loss: 0.0282 - accuracy: 0.9893 - val_loss: 0.7211 - val_accuracy: 0.8936 - 4s/epoch - 10ms/step\n",
      "Epoch 88/100\n",
      "375/375 - 4s - loss: 0.0497 - accuracy: 0.9817 - val_loss: 0.7129 - val_accuracy: 0.8917 - 4s/epoch - 9ms/step\n",
      "Epoch 89/100\n",
      "375/375 - 4s - loss: 0.0395 - accuracy: 0.9859 - val_loss: 0.7501 - val_accuracy: 0.8938 - 4s/epoch - 9ms/step\n",
      "Epoch 90/100\n",
      "375/375 - 5s - loss: 0.0372 - accuracy: 0.9867 - val_loss: 0.6921 - val_accuracy: 0.8974 - 5s/epoch - 13ms/step\n",
      "Epoch 91/100\n",
      "375/375 - 4s - loss: 0.0322 - accuracy: 0.9883 - val_loss: 0.7464 - val_accuracy: 0.8938 - 4s/epoch - 10ms/step\n",
      "Epoch 92/100\n",
      "375/375 - 3s - loss: 0.0372 - accuracy: 0.9869 - val_loss: 0.7442 - val_accuracy: 0.8928 - 3s/epoch - 9ms/step\n",
      "Epoch 93/100\n",
      "375/375 - 4s - loss: 0.0335 - accuracy: 0.9880 - val_loss: 0.7501 - val_accuracy: 0.8957 - 4s/epoch - 10ms/step\n",
      "Epoch 94/100\n",
      "375/375 - 5s - loss: 0.0328 - accuracy: 0.9876 - val_loss: 0.6985 - val_accuracy: 0.8931 - 5s/epoch - 13ms/step\n",
      "Epoch 95/100\n",
      "375/375 - 6s - loss: 0.0389 - accuracy: 0.9862 - val_loss: 0.7631 - val_accuracy: 0.8919 - 6s/epoch - 16ms/step\n",
      "Epoch 96/100\n",
      "375/375 - 6s - loss: 0.0374 - accuracy: 0.9869 - val_loss: 0.7438 - val_accuracy: 0.8879 - 6s/epoch - 15ms/step\n",
      "Epoch 97/100\n",
      "375/375 - 7s - loss: 0.0281 - accuracy: 0.9901 - val_loss: 0.7129 - val_accuracy: 0.8932 - 7s/epoch - 19ms/step\n",
      "Epoch 98/100\n",
      "375/375 - 5s - loss: 0.0378 - accuracy: 0.9868 - val_loss: 0.7441 - val_accuracy: 0.8953 - 5s/epoch - 13ms/step\n",
      "Epoch 99/100\n",
      "375/375 - 6s - loss: 0.0292 - accuracy: 0.9893 - val_loss: 0.7641 - val_accuracy: 0.8967 - 6s/epoch - 15ms/step\n",
      "Epoch 100/100\n",
      "375/375 - 6s - loss: 0.0243 - accuracy: 0.9911 - val_loss: 0.8588 - val_accuracy: 0.8816 - 6s/epoch - 17ms/step\n"
     ]
    }
   ],
   "source": [
    "# 編譯模型\n",
    "model.compile(optimizer= tf.keras.optimizers.Adam(),\n",
    "              loss='sparse_categorical_crossentropy',\n",
    "              metrics=['accuracy'])\n",
    "\n",
    "train_images, train_labels = preprocess(train_image, train_label)\n",
    "batchsz = 128  # 設定批次大小\n",
    "# 訓練模型\n",
    "history = model.fit(train_images, train_labels,epochs=100,\n",
    "                    batch_size = batchsz,   # 設定批次訓練大小\n",
    "                    validation_split = 0.2,    # 劃分資料集的 20% 作為驗證集用\n",
    "                    verbose = 2)  # 印出為精簡模式"
   ]
  },
  {
   "cell_type": "code",
   "execution_count": 5,
   "metadata": {
    "scrolled": true
   },
   "outputs": [
    {
     "name": "stdout",
     "output_type": "stream",
     "text": [
      "1/1 [==============================] - 0s 324ms/step\n",
      "Predicted labels:  [9 2 1 1 6 1 4 6 5 7 4 5 8 3 4]\n",
      "test labels:  [9 2 1 1 6 1 4 6 5 7 4 5 7 3 4]\n"
     ]
    }
   ],
   "source": [
    "import numpy as np\n",
    "# 測試資料的預處理\n",
    "test_image, test_labels = preprocess(test_image, test_label)\n",
    "predicted_image15 = model.predict(test_image[:15])  # 將前15比做預測\n",
    "predicted_ids15 = np.argmax(predicted_image15, axis=-1)  # 取出機率最大的 index\n",
    "print(\"Predicted labels: \", predicted_ids15[:15])\n",
    "print(\"test labels: \", test_label[:15])"
   ]
  },
  {
   "cell_type": "code",
   "execution_count": 6,
   "metadata": {},
   "outputs": [
    {
     "name": "stdout",
     "output_type": "stream",
     "text": [
      "Save Model\n"
     ]
    }
   ],
   "source": [
    "# 儲存網路\n",
    "model.save('Fashion_model.h5')\n",
    "print('Save Model')\n",
    "del model"
   ]
  },
  {
   "cell_type": "code",
   "execution_count": 7,
   "metadata": {},
   "outputs": [
    {
     "name": "stdout",
     "output_type": "stream",
     "text": [
      "loaded model from Fashion_model.h5\n",
      "1/1 [==============================] - 0s 181ms/step\n",
      "tf.Tensor([9 2 1 1 6 1 4 6 5 7 4 5 8 3 4], shape=(15,), dtype=int64)\n",
      "tf.Tensor([9 2 1 1 6 1 4 6 5 7 4 5 7 3 4], shape=(15,), dtype=int32)\n"
     ]
    }
   ],
   "source": [
    "# 載入模型\n",
    "print('loaded model from Fashion_model.h5')\n",
    "Model2 = tf.keras.models.load_model('Fashion_model.h5',compile=False)  # 千萬不要compile因為已經都好了\n",
    "# 拿前十五筆資料來預測並印出標籤\n",
    "prediction = Model2.predict(test_image[:15])\n",
    "print(tf.argmax(prediction,1))\n",
    "# 印出前十五筆資料的正確標籤\n",
    "print(test_labels[:15])"
   ]
  },
  {
   "cell_type": "code",
   "execution_count": 8,
   "metadata": {},
   "outputs": [
    {
     "data": {
      "text/plain": [
       "'\\npredicted_image = model.predict(test_image)  # 進行預測\\nprint(predicted_image.shape)\\npredicted_ids = np.argmax(predicted_image, axis=-1)  # 取出機率最大的 index\\nprint(\"Predicted labels: \", predicted_ids)\\nprint(\"test labels: \", test_label)\\n# 比較兩個 predicted_ids 與 test_label 是否相同\\ncorrect_prediction = tf.equal(predicted_ids,test_label)  \\naccuracy = tf.reduce_mean(tf.cast(correct_prediction,\"float\"))\\nprint(accuracy*100)\\n\\n'"
      ]
     },
     "execution_count": 8,
     "metadata": {},
     "output_type": "execute_result"
    }
   ],
   "source": [
    "\"\"\"\n",
    "predicted_image = model.predict(test_image)  # 進行預測\n",
    "print(predicted_image.shape)\n",
    "predicted_ids = np.argmax(predicted_image, axis=-1)  # 取出機率最大的 index\n",
    "print(\"Predicted labels: \", predicted_ids)\n",
    "print(\"test labels: \", test_label)\n",
    "# 比較兩個 predicted_ids 與 test_label 是否相同\n",
    "correct_prediction = tf.equal(predicted_ids,test_label)  \n",
    "accuracy = tf.reduce_mean(tf.cast(correct_prediction,\"float\"))\n",
    "print(accuracy*100)\n",
    "\n",
    "\"\"\""
   ]
  }
 ],
 "metadata": {
  "kernelspec": {
   "display_name": "Python 3 (ipykernel)",
   "language": "python",
   "name": "python3"
  },
  "language_info": {
   "codemirror_mode": {
    "name": "ipython",
    "version": 3
   },
   "file_extension": ".py",
   "mimetype": "text/x-python",
   "name": "python",
   "nbconvert_exporter": "python",
   "pygments_lexer": "ipython3",
   "version": "3.8.13"
  }
 },
 "nbformat": 4,
 "nbformat_minor": 4
}
