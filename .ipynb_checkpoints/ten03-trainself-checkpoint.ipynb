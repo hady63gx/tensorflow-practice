{
 "cells": [
  {
   "cell_type": "code",
   "execution_count": 1,
   "id": "c5e45394",
   "metadata": {},
   "outputs": [],
   "source": [
    "# 讀取mnist資料\n",
    "from tensorflow.keras.datasets import mnist\n",
    "#圖檔資料, 標籤\n",
    "(train_Data, train_Label), (test_Data, test_Label) = mnist.load_data()"
   ]
  },
  {
   "cell_type": "code",
   "execution_count": 2,
   "id": "d6bd18cb",
   "metadata": {},
   "outputs": [
    {
     "name": "stdout",
     "output_type": "stream",
     "text": [
      "train data =  60000\n",
      "test data =  10000\n"
     ]
    }
   ],
   "source": [
    "# 查看mnist資料\n",
    "print('train data = ', len(train_Data))\n",
    "print('test data = ', len(test_Data))"
   ]
  },
  {
   "cell_type": "code",
   "execution_count": 3,
   "id": "b5219d10",
   "metadata": {},
   "outputs": [
    {
     "name": "stdout",
     "output_type": "stream",
     "text": [
      "train data dim =  (60000, 28, 28)\n",
      "test data dim =  (10000, 28, 28)\n"
     ]
    }
   ],
   "source": [
    "# 查看訓練資料\n",
    "print('train data dim = ', train_Data.shape)\n",
    "print('test data dim = ', test_Data.shape)"
   ]
  },
  {
   "cell_type": "code",
   "execution_count": 4,
   "id": "ff436e57",
   "metadata": {},
   "outputs": [
    {
     "data": {
      "image/png": "[encoded data removed]",
      "text/plain": [
       "<Figure size 400x400 with 1 Axes>"
      ]
     },
     "metadata": {},
     "output_type": "display_data"
    }
   ],
   "source": [
    "import matplotlib.pyplot as plt  # 資料視覺化\n",
    "def plot_image(data):\n",
    "    fig = plt.gcf()  # 設定顯示圖片大小\n",
    "    fig.set_size_inches(4,4)\n",
    "    plt.imshow(data, cmap = 'binary')  # 顯示圖片，讀出image，camp參數設為binary以黑白灰階顯示\n",
    "    plt.show()  # 開始繪圖\n",
    "    \n",
    "plot_image(train_Data[0])  #查看第0筆影像"
   ]
  },
  {
   "cell_type": "code",
   "execution_count": 5,
   "id": "708a8156",
   "metadata": {},
   "outputs": [],
   "source": [
    "# 設置超參數與資料訓練前處裡\n",
    "import tensorflow as tf\n",
    "learn_rate = 0.01  # 訓練率\n",
    "train_epoch = 1000  # 訓練次數\n",
    "batch_size = 2000  # 訓練大小\n",
    "\n",
    "# 將原本是28*28的影像攤平成784，未來要當作輸入特徵\n",
    "train_Data_R, test_Data_R = train_Data.reshape([-1, 784]).astype('float32')\\\n",
    "                            ,test_Data.reshape([-1, 784]).astype('float32')\n",
    "# 資料正規化至0~1之間\n",
    "train_Data_R = train_Data_R/255\n",
    "test_Data_R = test_Data_R/255\n",
    "\n",
    "# 先打包合併後再打散，為了讓資料訓練權重不失衡\n",
    "train_Data_M = tf.data.Dataset.from_tensor_slices((train_Data_R, train_Label))\n",
    "train_Data_M = train_Data_M.shuffle(5000).batch(batch_size)"
   ]
  },
  {
   "cell_type": "code",
   "execution_count": 6,
   "id": "a6bce331",
   "metadata": {},
   "outputs": [],
   "source": [
    "# 設計網路 有三種，則一即可\n",
    "# 激勵函數主要是讓線性轉成非線性,有機會是負值\n",
    "model = tf.keras.models.Sequential([\n",
    "    tf.keras.layers.Dense(256,activation = 'relu'),\n",
    "    tf.keras.layers.Dense(128,activation = 'relu'),\n",
    "    tf.keras.layers.Dense(64,activation = 'relu'),\n",
    "    tf.keras.layers.Dense(10,activation = 'softmax')  # softmax使其不為負值，確保輸出為機率值，機率值總和為1並且節點為0~9，共10個\n",
    "])"
   ]
  },
  {
   "cell_type": "code",
   "execution_count": 7,
   "id": "6e802d46",
   "metadata": {},
   "outputs": [],
   "source": [
    "# 優化器\n",
    "optimizer = tf.keras.optimizers.SGD(learn_rate)\n",
    "# 損失函數\n",
    "def cross_entropy_loss(x,y):\n",
    "    scce = tf.keras.losses.SparseCategoricalCrossentropy()\n",
    "    loss = scce(y,x)\n",
    "    return tf.reduce_mean(loss)  # 算出平均損失\n",
    "\n",
    "def accuracy(y_pred, y_true):\n",
    "    correct_prediction = tf.equal(tf.argmax(y_pred, 1),  # 把1是維度的最大值Index找出\n",
    "                                 tf.cast(y_true, tf.int64))  # 與真實標籤去比是否相等\n",
    "    return tf.reduce_mean(tf.cast(correct_prediction, tf.float32), axis = -1)  #算出正確率"
   ]
  },
  {
   "cell_type": "code",
   "execution_count": 9,
   "id": "c87f3ae2",
   "metadata": {},
   "outputs": [
    {
     "name": "stdout",
     "output_type": "stream",
     "text": [
      "Testloss:2.190494, Testaccuracy:0.278600\n",
      "Testloss:2.073901, Testaccuracy:0.407200\n",
      "Testloss:1.929961, Testaccuracy:0.506500\n",
      "Testloss:1.755516, Testaccuracy:0.599900\n"
     ]
    },
    {
     "name": "stderr",
     "output_type": "stream",
     "text": [
      "\n",
      "KeyboardInterrupt\n",
      "\n"
     ]
    }
   ],
   "source": [
    "# 訓練\n",
    "for epoch in range(train_epoch):  \n",
    "    for step, (batch_data, batch_label) in enumerate(train_Data_M):\n",
    "        with tf.GradientTape() as tape:  # 算權重\n",
    "            pred_data = model(batch_data)\n",
    "            loss = cross_entropy_loss(pred_data, batch_label)\n",
    "            acc = accuracy(pred_data, batch_label)\n",
    "            trainable_variables = model.trainable_variables  # 可訓練的變動參數\n",
    "            \n",
    "            gradients = tape.gradient(loss, trainable_variables)  #根據損失函數計算梯度\n",
    "        optimizer.apply_gradients(zip(gradients, trainable_variables))\n",
    "        \n",
    "    Testprec = model(test_Data_R)\n",
    "    Testloss = cross_entropy_loss(Testprec, test_Label)\n",
    "    Testacc = accuracy(Testprec, test_Label)\n",
    "    print(\"Testloss:%f, Testaccuracy:%f\"%(Testloss, Testacc))"
   ]
  },
  {
   "cell_type": "code",
   "execution_count": null,
   "id": "dd0ef1e4",
   "metadata": {},
   "outputs": [],
   "source": []
  }
 ],
 "metadata": {
  "kernelspec": {
   "display_name": "Python [conda env:tensorflow2x] *",
   "language": "python",
   "name": "conda-env-tensorflow2x-py"
  },
  "language_info": {
   "codemirror_mode": {
    "name": "ipython",
    "version": 3
   },
   "file_extension": ".py",
   "mimetype": "text/x-python",
   "name": "python",
   "nbconvert_exporter": "python",
   "pygments_lexer": "ipython3",
   "version": "3.8.13"
  }
 },
 "nbformat": 4,
 "nbformat_minor": 5
}
