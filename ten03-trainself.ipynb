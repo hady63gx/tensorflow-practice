{
 "cells": [
  {
   "cell_type": "code",
   "execution_count": 1,
   "id": "c5e45394",
   "metadata": {},
   "outputs": [],
   "source": [
    "# 讀取mnist資料\n",
    "from tensorflow.keras.datasets import mnist\n",
    "#圖檔資料, 標籤\n",
    "(train_Data, train_Label), (test_Data, test_Label) = mnist.load_data()"
   ]
  },
  {
   "cell_type": "code",
   "execution_count": 2,
   "id": "d6bd18cb",
   "metadata": {},
   "outputs": [
    {
     "name": "stdout",
     "output_type": "stream",
     "text": [
      "train data =  60000\n",
      "test data =  10000\n"
     ]
    }
   ],
   "source": [
    "# 查看mnist資料\n",
    "print('train data = ', len(train_Data))\n",
    "print('test data = ', len(test_Data))"
   ]
  },
  {
   "cell_type": "code",
   "execution_count": 3,
   "id": "b5219d10",
   "metadata": {},
   "outputs": [
    {
     "name": "stdout",
     "output_type": "stream",
     "text": [
      "train data dim =  (60000, 28, 28)\n",
      "test data dim =  (10000, 28, 28)\n"
     ]
    }
   ],
   "source": [
    "# 查看訓練資料\n",
    "print('train data dim = ', train_Data.shape)\n",
    "print('test data dim = ', test_Data.shape)"
   ]
  },
  {
   "cell_type": "code",
   "execution_count": 4,
   "id": "ff436e57",
   "metadata": {},
   "outputs": [
    {
     "data": {
      "image/png": "[encoded data removed]",
      "text/plain": [
       "<Figure size 400x400 with 1 Axes>"
      ]
     },
     "metadata": {},
     "output_type": "display_data"
    }
   ],
   "source": [
    "import matplotlib.pyplot as plt  # 資料視覺化\n",
    "def plot_image(data):\n",
    "    fig = plt.gcf()  # 設定顯示圖片大小\n",
    "    fig.set_size_inches(4,4)\n",
    "    plt.imshow(data, cmap = 'binary')  # 顯示圖片，讀出image，camp參數設為binary以黑白灰階顯示\n",
    "    plt.show()  # 開始繪圖\n",
    "    \n",
    "plot_image(train_Data[0])  #查看第0筆影像"
   ]
  },
  {
   "cell_type": "code",
   "execution_count": 5,
   "id": "708a8156",
   "metadata": {},
   "outputs": [],
   "source": [
    "# 設置超參數與資料訓練前處裡\n",
    "import tensorflow as tf\n",
    "learn_rate = 0.01  # 訓練率\n",
    "train_epoch = 1000  # 訓練次數\n",
    "batch_size = 2000  # 訓練大小\n",
    "\n",
    "# 將原本是28*28的影像攤平成784，未來要當作輸入特徵\n",
    "train_Data_R, test_Data_R = train_Data.reshape([-1, 784]).astype('float32')\\\n",
    "                            ,test_Data.reshape([-1, 784]).astype('float32')\n",
    "# 資料正規化至0~1之間\n",
    "train_Data_R = train_Data_R/255\n",
    "test_Data_R = test_Data_R/255\n",
    "\n",
    "# 先打包合併後再打散，為了讓資料訓練權重不失衡\n",
    "train_Data_M = tf.data.Dataset.from_tensor_slices((train_Data_R, train_Label))\n",
    "train_Data_M = train_Data_M.shuffle(5000).batch(batch_size)"
   ]
  },
  {
   "cell_type": "code",
   "execution_count": 6,
   "id": "a6bce331",
   "metadata": {},
   "outputs": [],
   "source": [
    "# 設計網路 有三種，則一即可\n",
    "# 激勵函數主要是讓線性轉成非線性,有機會是負值\n",
    "model = tf.keras.models.Sequential([\n",
    "    tf.keras.layers.Dense(256,activation = 'relu'),\n",
    "    tf.keras.layers.Dense(128,activation = 'relu'),\n",
    "    tf.keras.layers.Dense(64,activation = 'relu'),\n",
    "    tf.keras.layers.Dense(10,activation = 'softmax')  # softmax使其不為負值，確保輸出為機率值，機率值總和為1並且節點為0~9，共10個\n",
    "])"
   ]
  },
  {
   "cell_type": "code",
   "execution_count": 7,
   "id": "6e802d46",
   "metadata": {},
   "outputs": [],
   "source": [
    "# 優化器\n",
    "optimizer = tf.keras.optimizers.SGD(learn_rate)\n",
    "# 損失函數\n",
    "def cross_entropy_loss(x,y):\n",
    "    scce = tf.keras.losses.SparseCategoricalCrossentropy()\n",
    "    loss = scce(y,x)\n",
    "    return tf.reduce_mean(loss)  # 算出平均損失\n",
    "\n",
    "def accuracy(y_pred, y_true):\n",
    "    correct_prediction = tf.equal(tf.argmax(y_pred, 1),  # 把1是維度的最大值Index找出\n",
    "                                 tf.cast(y_true, tf.int64))  # 與真實標籤去比是否相等\n",
    "    return tf.reduce_mean(tf.cast(correct_prediction, tf.float32), axis = -1)  #算出正確率"
   ]
  },
  {
   "cell_type": "code",
   "execution_count": null,
   "id": "c87f3ae2",
   "metadata": {},
   "outputs": [
    {
     "name": "stdout",
     "output_type": "stream",
     "text": [
      "Testloss:2.176876, Testaccuracy:0.295700\n",
      "Testloss:2.016244, Testaccuracy:0.443900\n",
      "Testloss:1.826852, Testaccuracy:0.552900\n",
      "Testloss:1.616043, Testaccuracy:0.632600\n",
      "Testloss:1.405256, Testaccuracy:0.694000\n",
      "Testloss:1.212355, Testaccuracy:0.743100\n",
      "Testloss:1.048282, Testaccuracy:0.774900\n",
      "Testloss:0.917425, Testaccuracy:0.795400\n",
      "Testloss:0.816194, Testaccuracy:0.814000\n",
      "Testloss:0.737419, Testaccuracy:0.827500\n",
      "Testloss:0.675224, Testaccuracy:0.837600\n",
      "Testloss:0.625127, Testaccuracy:0.846300\n",
      "Testloss:0.584579, Testaccuracy:0.853800\n",
      "Testloss:0.551285, Testaccuracy:0.859400\n",
      "Testloss:0.523362, Testaccuracy:0.864700\n",
      "Testloss:0.499692, Testaccuracy:0.869600\n",
      "Testloss:0.479723, Testaccuracy:0.873700\n",
      "Testloss:0.462368, Testaccuracy:0.877200\n",
      "Testloss:0.447156, Testaccuracy:0.880600\n",
      "Testloss:0.433935, Testaccuracy:0.882700\n",
      "Testloss:0.422104, Testaccuracy:0.884900\n",
      "Testloss:0.411656, Testaccuracy:0.886800\n",
      "Testloss:0.402143, Testaccuracy:0.889200\n",
      "Testloss:0.393512, Testaccuracy:0.891400\n",
      "Testloss:0.385583, Testaccuracy:0.893000\n",
      "Testloss:0.378680, Testaccuracy:0.894500\n",
      "Testloss:0.372162, Testaccuracy:0.896300\n",
      "Testloss:0.366177, Testaccuracy:0.897600\n",
      "Testloss:0.360697, Testaccuracy:0.899100\n",
      "Testloss:0.355456, Testaccuracy:0.900300\n",
      "Testloss:0.350575, Testaccuracy:0.901500\n",
      "Testloss:0.345966, Testaccuracy:0.902700\n",
      "Testloss:0.341744, Testaccuracy:0.903300\n",
      "Testloss:0.337600, Testaccuracy:0.904800\n",
      "Testloss:0.334137, Testaccuracy:0.905700\n",
      "Testloss:0.330475, Testaccuracy:0.906500\n",
      "Testloss:0.326940, Testaccuracy:0.907500\n",
      "Testloss:0.323669, Testaccuracy:0.908100\n",
      "Testloss:0.320510, Testaccuracy:0.908600\n",
      "Testloss:0.317356, Testaccuracy:0.909300\n",
      "Testloss:0.314466, Testaccuracy:0.910200\n",
      "Testloss:0.311932, Testaccuracy:0.911000\n",
      "Testloss:0.308996, Testaccuracy:0.911600\n",
      "Testloss:0.306732, Testaccuracy:0.912200\n",
      "Testloss:0.303978, Testaccuracy:0.913100\n",
      "Testloss:0.301587, Testaccuracy:0.913700\n",
      "Testloss:0.299402, Testaccuracy:0.914500\n",
      "Testloss:0.296957, Testaccuracy:0.915000\n",
      "Testloss:0.294937, Testaccuracy:0.915700\n",
      "Testloss:0.292595, Testaccuracy:0.915800\n",
      "Testloss:0.290518, Testaccuracy:0.915900\n",
      "Testloss:0.288513, Testaccuracy:0.916600\n",
      "Testloss:0.286515, Testaccuracy:0.917400\n",
      "Testloss:0.284857, Testaccuracy:0.917700\n",
      "Testloss:0.282763, Testaccuracy:0.918600\n",
      "Testloss:0.280715, Testaccuracy:0.919300\n",
      "Testloss:0.279279, Testaccuracy:0.919800\n",
      "Testloss:0.277385, Testaccuracy:0.920100\n",
      "Testloss:0.275650, Testaccuracy:0.920300\n",
      "Testloss:0.273883, Testaccuracy:0.921700\n",
      "Testloss:0.272258, Testaccuracy:0.920800\n",
      "Testloss:0.270672, Testaccuracy:0.922500\n",
      "Testloss:0.269126, Testaccuracy:0.922900\n",
      "Testloss:0.267732, Testaccuracy:0.923000\n",
      "Testloss:0.266059, Testaccuracy:0.923500\n",
      "Testloss:0.264670, Testaccuracy:0.923900\n",
      "Testloss:0.263023, Testaccuracy:0.924500\n",
      "Testloss:0.261707, Testaccuracy:0.924800\n",
      "Testloss:0.260323, Testaccuracy:0.925900\n",
      "Testloss:0.258963, Testaccuracy:0.925800\n",
      "Testloss:0.257454, Testaccuracy:0.926700\n",
      "Testloss:0.255992, Testaccuracy:0.927200\n",
      "Testloss:0.254907, Testaccuracy:0.927200\n",
      "Testloss:0.253536, Testaccuracy:0.928400\n",
      "Testloss:0.252113, Testaccuracy:0.928800\n",
      "Testloss:0.250681, Testaccuracy:0.929200\n",
      "Testloss:0.249562, Testaccuracy:0.929400\n",
      "Testloss:0.248448, Testaccuracy:0.929800\n",
      "Testloss:0.247265, Testaccuracy:0.930300\n",
      "Testloss:0.245820, Testaccuracy:0.930400\n",
      "Testloss:0.244655, Testaccuracy:0.930400\n",
      "Testloss:0.243526, Testaccuracy:0.930800\n",
      "Testloss:0.242246, Testaccuracy:0.930800\n",
      "Testloss:0.241120, Testaccuracy:0.931400\n",
      "Testloss:0.240176, Testaccuracy:0.931700\n",
      "Testloss:0.238960, Testaccuracy:0.932100\n",
      "Testloss:0.237956, Testaccuracy:0.932700\n",
      "Testloss:0.236773, Testaccuracy:0.933000\n",
      "Testloss:0.235656, Testaccuracy:0.933400\n",
      "Testloss:0.234545, Testaccuracy:0.933200\n",
      "Testloss:0.233446, Testaccuracy:0.933600\n",
      "Testloss:0.232321, Testaccuracy:0.933800\n",
      "Testloss:0.231276, Testaccuracy:0.934200\n",
      "Testloss:0.230192, Testaccuracy:0.934500\n",
      "Testloss:0.229145, Testaccuracy:0.934600\n",
      "Testloss:0.228214, Testaccuracy:0.935200\n",
      "Testloss:0.227056, Testaccuracy:0.934800\n",
      "Testloss:0.226076, Testaccuracy:0.935400\n",
      "Testloss:0.225239, Testaccuracy:0.935700\n",
      "Testloss:0.223972, Testaccuracy:0.936200\n",
      "Testloss:0.223155, Testaccuracy:0.936200\n",
      "Testloss:0.222137, Testaccuracy:0.936600\n",
      "Testloss:0.221116, Testaccuracy:0.937000\n",
      "Testloss:0.220331, Testaccuracy:0.937400\n",
      "Testloss:0.219351, Testaccuracy:0.937600\n",
      "Testloss:0.218508, Testaccuracy:0.937700\n",
      "Testloss:0.217547, Testaccuracy:0.938000\n",
      "Testloss:0.216669, Testaccuracy:0.937800\n",
      "Testloss:0.215702, Testaccuracy:0.938600\n",
      "Testloss:0.214728, Testaccuracy:0.938800\n",
      "Testloss:0.213935, Testaccuracy:0.938900\n",
      "Testloss:0.212973, Testaccuracy:0.939100\n",
      "Testloss:0.212210, Testaccuracy:0.939100\n",
      "Testloss:0.211356, Testaccuracy:0.938900\n",
      "Testloss:0.210427, Testaccuracy:0.939400\n",
      "Testloss:0.209519, Testaccuracy:0.939600\n",
      "Testloss:0.208767, Testaccuracy:0.939700\n",
      "Testloss:0.207942, Testaccuracy:0.939800\n"
     ]
    }
   ],
   "source": [
    "# 訓練\n",
    "for epoch in range(train_epoch):\n",
    "    for step, (batch_data, batch_label) in enumerate(train_Data_M):  #讓它分次訓練\n",
    "        with tf.GradientTape() as tape:  # 算權重\n",
    "            pred_data = model(batch_data)  # 預測值\n",
    "            loss = cross_entropy_loss(pred_data, batch_label)  # 損失\n",
    "            acc = accuracy(pred_data, batch_label)  # 正確率\n",
    "            trainable_variables = model.trainable_variables  # 可訓練的變動參數\n",
    "            \n",
    "            gradient = tape.gradient(loss, trainable_variables)  #根據損失函數計算梯度\n",
    "        optimizer.apply_gradients(zip(gradient, trainable_variables))\n",
    "        \n",
    "    Testprec = model(test_Data_R)\n",
    "    Testloss = cross_entropy_loss(Testprec, test_Label)\n",
    "    Testacc = accuracy(Testprec, test_Label)\n",
    "    print(\"Testloss:%f, Testaccuracy:%f\"%(Testloss, Testacc))"
   ]
  },
  {
   "cell_type": "code",
   "execution_count": null,
   "id": "dd0ef1e4",
   "metadata": {},
   "outputs": [],
   "source": []
  },
  {
   "cell_type": "code",
   "execution_count": null,
   "id": "b5147038-7d72-41a7-862e-5927da110f05",
   "metadata": {},
   "outputs": [],
   "source": []
  }
 ],
 "metadata": {
  "kernelspec": {
   "display_name": "Python 3 (ipykernel)",
   "language": "python",
   "name": "python3"
  },
  "language_info": {
   "codemirror_mode": {
    "name": "ipython",
    "version": 3
   },
   "file_extension": ".py",
   "mimetype": "text/x-python",
   "name": "python",
   "nbconvert_exporter": "python",
   "pygments_lexer": "ipython3",
   "version": "3.9.12"
  }
 },
 "nbformat": 4,
 "nbformat_minor": 5
}
