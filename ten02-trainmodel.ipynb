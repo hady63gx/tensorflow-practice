{
 "cells": [
  {
   "cell_type": "code",
   "execution_count": 1,
   "id": "413ef483",
   "metadata": {},
   "outputs": [
    {
     "name": "stdout",
     "output_type": "stream",
     "text": [
      "(3, 10)\n",
      "Model: \"net_model\"\n",
      "_________________________________________________________________\n",
      " Layer (type)                Output Shape              Param #   \n",
      "=================================================================\n",
      " dense (Dense)               multiple                  200960    \n",
      "                                                                 \n",
      " dense_1 (Dense)             multiple                  32896     \n",
      "                                                                 \n",
      " dense_2 (Dense)             multiple                  8256      \n",
      "                                                                 \n",
      " dense_3 (Dense)             multiple                  650       \n",
      "                                                                 \n",
      "=================================================================\n",
      "Total params: 242,762\n",
      "Trainable params: 242,762\n",
      "Non-trainable params: 0\n",
      "_________________________________________________________________\n",
      "None\n"
     ]
    }
   ],
   "source": [
    "# 利用 Model 繼承方式建立網路模型\n",
    "import tensorflow as tf\n",
    "from tensorflow.keras import layers  # 導入 Layer類\n",
    "# 透過Sequential容器封裝為一個網路類\n",
    "class netModel(tf.keras.Model):\n",
    "    def __init__(self):\n",
    "        super().__init__()\n",
    "        self.fc1 = layers.Dense(256,activation = tf.nn.sigmoid)\n",
    "        self.fc2 = layers.Dense(128,activation = tf.nn.sigmoid)\n",
    "        self.fc3 = layers.Dense(64,activation = tf.nn.sigmoid)  #激勵函數\n",
    "        self.fc4 = layers.Dense(10)\n",
    "        \n",
    "    def call(self,inputs,training = None, mask = None):\n",
    "        x = self.fc1(inputs)\n",
    "        x = self.fc2(x)\n",
    "        x = self.fc3(x)\n",
    "        out = self.fc4(x)\n",
    "        return out\n",
    "\n",
    "input = tf.random.normal([3,784])\n",
    "myModel = netModel()\n",
    "out = myModel(input)\n",
    "print(out.shape)\n",
    "print(myModel.summary())"
   ]
  },
  {
   "cell_type": "code",
   "execution_count": 2,
   "id": "2ae6cfd4",
   "metadata": {},
   "outputs": [
    {
     "name": "stdout",
     "output_type": "stream",
     "text": [
      "tf.Tensor(0.4915282, shape=(), dtype=float32)\n",
      "tf.Tensor(0.49152803, shape=(), dtype=float32)\n"
     ]
    }
   ],
   "source": [
    "import tensorflow as tf\n",
    "y_true = [0.,1.,0.,1.]\n",
    "y_pred1 = [0.5,0.8,0.3,0.5]\n",
    "\n",
    "def BCE(output, target):\n",
    "    n = len(output)\n",
    "    total_value = 0\n",
    "    \n",
    "    for i in range(n):\n",
    "        total_value += (target[i] * tf.math.log(output[i]) + (1-target[i]) * tf.math.log(1-output[i]))\n",
    "        \n",
    "    total_value *= -1/n\n",
    "    print(total_value)\n",
    "    \n",
    "BCE(y_pred1,y_true)\n",
    "loss1 = tf.keras.losses.binary_crossentropy(y_true,y_pred1)\n",
    "print(loss1)"
   ]
  },
  {
   "cell_type": "code",
   "execution_count": 3,
   "id": "3509d3cc",
   "metadata": {},
   "outputs": [
    {
     "name": "stdout",
     "output_type": "stream",
     "text": [
      "tf.Tensor(0.4915282, shape=(), dtype=float32)\n",
      "tf.Tensor(0.105360545, shape=(), dtype=float32)\n"
     ]
    }
   ],
   "source": [
    "import tensorflow as tf\n",
    "y_true = [0.,1.,0.,1.]\n",
    "y_pred1 = [0.5,0.8,0.3,0.5]\n",
    "y_pred2 =[0.1,0.9,0.1,0.9]\n",
    "\n",
    "def BCE(output, target):\n",
    "    n = len(output)\n",
    "    total_value = 0\n",
    "    \n",
    "    for i in range(n):\n",
    "        total_value += (target[i] * tf.math.log(output[i]) + (1-target[i]) * tf.math.log(1-output[i]))\n",
    "        \n",
    "    total_value *= -1/n\n",
    "    print(total_value)\n",
    "    \n",
    "BCE(y_pred1,y_true)\n",
    "BCE(y_pred2,y_true)\n",
    "# loss1 = tf.keras.losses.binary_crossentropy(y_true,y_pred1)\n",
    "# print(loss1)"
   ]
  },
  {
   "cell_type": "code",
   "execution_count": 4,
   "id": "2a7ce37c",
   "metadata": {},
   "outputs": [
    {
     "name": "stdout",
     "output_type": "stream",
     "text": [
      "tf.Tensor(0.35667497, shape=(), dtype=float32)\n",
      "tf.Tensor(16.118095, shape=(), dtype=float32)\n"
     ]
    }
   ],
   "source": [
    "import tensorflow as tf\n",
    "y_true = [0.,1.,0.,0.]  #第二類\n",
    "y_pred1 = [0.1,0.7,0.1,0.1]\n",
    "y_pred2 =[0.8,0.0,0.1,0.1]\n",
    "\n",
    "loss1 = tf.keras.losses.categorical_crossentropy(y_true,y_pred1);\n",
    "loss2 = tf.keras.losses.categorical_crossentropy(y_true,y_pred2);\n",
    "print(loss1)\n",
    "print(loss2)\n"
   ]
  },
  {
   "cell_type": "code",
   "execution_count": null,
   "id": "89575bf4",
   "metadata": {},
   "outputs": [],
   "source": []
  }
 ],
 "metadata": {
  "kernelspec": {
   "display_name": "Python [conda env:tensorflow2x] *",
   "language": "python",
   "name": "conda-env-tensorflow2x-py"
  },
  "language_info": {
   "codemirror_mode": {
    "name": "ipython",
    "version": 3
   },
   "file_extension": ".py",
   "mimetype": "text/x-python",
   "name": "python",
   "nbconvert_exporter": "python",
   "pygments_lexer": "ipython3",
   "version": "3.8.13"
  }
 },
 "nbformat": 4,
 "nbformat_minor": 5
}
